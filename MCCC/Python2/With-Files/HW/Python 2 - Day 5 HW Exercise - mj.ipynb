{
 "cells": [
  {
   "cell_type": "markdown",
   "metadata": {},
   "source": [
    "Exercise 1: \n",
    "\n",
    "Write a function that accepts two parameters: a city name and a country name. the function should return a single string of the form City, Country like <i>Anchorage, United States</i>. \n",
    "\n",
    "Using a doctest method, write a test case and make sure your test passes.\n"
   ]
  },
  {
   "cell_type": "code",
   "execution_count": 1,
   "metadata": {},
   "outputs": [],
   "source": [
    "import doctest"
   ]
  },
  {
   "cell_type": "code",
   "execution_count": 5,
   "metadata": {},
   "outputs": [],
   "source": [
    "def place (city, country):\n",
    "    \"\"\"Define a city within a country\n",
    "    \n",
    "    >>> place(\"Ottawa\", \"Canada\")\n",
    "    'Ottawa, Canada'\n",
    "    \"\"\"\n",
    "    \n",
    "    return f\"{city}, {country}\""
   ]
  },
  {
   "cell_type": "code",
   "execution_count": 6,
   "metadata": {},
   "outputs": [
    {
     "data": {
      "text/plain": [
       "TestResults(failed=0, attempted=1)"
      ]
     },
     "execution_count": 6,
     "metadata": {},
     "output_type": "execute_result"
    }
   ],
   "source": [
    "doctest.testmod()"
   ]
  },
  {
   "cell_type": "markdown",
   "metadata": {},
   "source": [
    "Exercise 2:\n",
    "\n",
    "Modify your function from Exercise 1 so it requires a third parameter, population. It should now return a signle string of the form City, Country - population xxx, such as <i>\"Anchorage, United States - population 288,000\"</i>. Run your test again and make sure it fails.\n",
    "\n",
    "Modify the function so the population parameter is optional. Run your previous test case and make sure it passes this time.\n",
    "\n",
    "Write a second test that verifies you can call your function with the values <i>Anchorage, United States,and 288000</i>. Run the test and make sure all your test cases pass."
   ]
  },
  {
   "cell_type": "code",
   "execution_count": 7,
   "metadata": {},
   "outputs": [],
   "source": [
    "def place (city, country, pop):\n",
    "    \"\"\"Identifies a city within a country and it's population\n",
    "    \n",
    "    >>> place(\"Ottawa\", \"Canada\")\n",
    "    'Ottawa, Canada'\n",
    "    \"\"\"\n",
    "    \n",
    "    return f\"{city}, {country} - population {pop}\""
   ]
  },
  {
   "cell_type": "code",
   "execution_count": 8,
   "metadata": {},
   "outputs": [
    {
     "name": "stdout",
     "output_type": "stream",
     "text": [
      "**********************************************************************\n",
      "File \"__main__\", line 4, in __main__.place\n",
      "Failed example:\n",
      "    place(\"Ottawa\", \"Canada\")\n",
      "Exception raised:\n",
      "    Traceback (most recent call last):\n",
      "      File \"C:\\Users\\Jacob\\anaconda3\\lib\\doctest.py\", line 1336, in __run\n",
      "        exec(compile(example.source, filename, \"single\",\n",
      "      File \"<doctest __main__.place[0]>\", line 1, in <module>\n",
      "        place(\"Ottawa\", \"Canada\")\n",
      "    TypeError: place() missing 1 required positional argument: 'pop'\n",
      "**********************************************************************\n",
      "1 items had failures:\n",
      "   1 of   1 in __main__.place\n",
      "***Test Failed*** 1 failures.\n"
     ]
    },
    {
     "data": {
      "text/plain": [
       "TestResults(failed=1, attempted=1)"
      ]
     },
     "execution_count": 8,
     "metadata": {},
     "output_type": "execute_result"
    }
   ],
   "source": [
    "doctest.testmod()"
   ]
  },
  {
   "cell_type": "code",
   "execution_count": 2,
   "metadata": {},
   "outputs": [],
   "source": [
    "def place(city, country, pop=\"\"):\n",
    "    \"\"\"Identifies a city within a country and it's population\n",
    "    \n",
    "    >>> place(\"Ottawa\", \"Canada\", 934243)\n",
    "    'Ottawa, Canada - population 934,243'\n",
    "    \"\"\"\n",
    "    \n",
    "    if pop == \"\": \n",
    "        return f\"{city}, {country}\"\n",
    "    else: \n",
    "        return f\"{city}, {country} - population {pop:,}\""
   ]
  },
  {
   "cell_type": "code",
   "execution_count": 3,
   "metadata": {},
   "outputs": [
    {
     "data": {
      "text/plain": [
       "TestResults(failed=0, attempted=1)"
      ]
     },
     "execution_count": 3,
     "metadata": {},
     "output_type": "execute_result"
    }
   ],
   "source": [
    "doctest.testmod()"
   ]
  },
  {
   "cell_type": "code",
   "execution_count": 11,
   "metadata": {},
   "outputs": [],
   "source": [
    "def place(city, country, pop=\"\"):\n",
    "    \"\"\"Identifies a city within a country and it's population\n",
    "    \n",
    "    >>> place(\"Ottawa\", \"Canada\")\n",
    "    'Ottawa, Canada - population'\n",
    "    \n",
    "    >>> place(\"Anchorage\", \"United States\", \"288000\")\n",
    "    'Anchorage, United States - population 288000'\n",
    "    \"\"\"\n",
    "    \n",
    "    if pop == \"\": \n",
    "        return f\"{city}, {country}\"\n",
    "    else: \n",
    "        return f\"{city}, {country} - population {pop}\""
   ]
  },
  {
   "cell_type": "code",
   "execution_count": 12,
   "metadata": {},
   "outputs": [
    {
     "name": "stdout",
     "output_type": "stream",
     "text": [
      "**********************************************************************\n",
      "File \"__main__\", line 4, in __main__.place\n",
      "Failed example:\n",
      "    place(\"Ottawa\", \"Canada\")\n",
      "Expected:\n",
      "    'Ottawa, Canada - population'\n",
      "Got:\n",
      "    'Ottawa, Canada'\n",
      "**********************************************************************\n",
      "1 items had failures:\n",
      "   1 of   2 in __main__.place\n",
      "***Test Failed*** 1 failures.\n"
     ]
    },
    {
     "data": {
      "text/plain": [
       "TestResults(failed=1, attempted=2)"
      ]
     },
     "execution_count": 12,
     "metadata": {},
     "output_type": "execute_result"
    }
   ],
   "source": [
    "doctest.testmod()"
   ]
  },
  {
   "cell_type": "markdown",
   "metadata": {},
   "source": [
    "Exercise 4:\n",
    "\n",
    "Write a class called Employee with private attributes to store a first name, a last name, and an annual salary. Write a method called give_raise() that adds 2% (of employee's current annual salary) to the annual salary by default but also accepts a different raise rate.\n",
    "\n",
    "Write a test case for Employee. Write two test methods, <b>test_give_default_raise()</b> and <b>test_give_custom_raise()</b>. Use the <b>setUp()</b> method so you don't have to create a new employee instance in each test method. \n",
    "\n",
    "Run your test case and make sure all tests pass.\n",
    "    \n",
    "    "
   ]
  },
  {
   "cell_type": "code",
   "execution_count": null,
   "metadata": {},
   "outputs": [],
   "source": []
  }
 ],
 "metadata": {
  "kernelspec": {
   "display_name": "Python 3",
   "language": "python",
   "name": "python3"
  },
  "language_info": {
   "codemirror_mode": {
    "name": "ipython",
    "version": 3
   },
   "file_extension": ".py",
   "mimetype": "text/x-python",
   "name": "python",
   "nbconvert_exporter": "python",
   "pygments_lexer": "ipython3",
   "version": "3.8.5"
  }
 },
 "nbformat": 4,
 "nbformat_minor": 4
}
