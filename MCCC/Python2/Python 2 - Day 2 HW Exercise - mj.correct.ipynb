{
 "cells": [
  {
   "cell_type": "markdown",
   "metadata": {},
   "source": [
    "# OOP - Composition, Encapsulation, & Inheritance"
   ]
  },
  {
   "cell_type": "markdown",
   "metadata": {},
   "source": [
    "## Exercise 1: \n",
    "Create a Temperature Converter program using OOP by creating a Temperature class with two private attributes to store Fahrenheit and Celsius degrees. In the Temperature class, define methods that \n",
    "- sets the private attributes. When you set one unit of temperature, it should calculate and set the other unit of temperature. For example, when you set degrees in Fahrenheit, it should calculate and set in Celsius degrees. \n",
    "- gets the hidden attributes that round the number to 2 decimal places. \n",
    "\n",
    "The output should look something like following:\n",
    "\n",
    "    MENU\n",
    "    1. Fahrenheit to Celsius\n",
    "    2. Celsius to Fahrenheit\n",
    "    3. Quit\n",
    "    \n",
    "    Enter a menu option: 1\n",
    "    Enter degrees in Fahrenheit: 99\n",
    "    99.00 oF is 37.22 oC.\n",
    "    \n",
    "    Enter a menu option: 2\n",
    "    Enter degrees in Celsius: 37.22\n",
    "    37.22 oC is 99.00 oF.\n",
    "    \n",
    "    Enter a menu option: 3\n",
    "    Bye\n"
   ]
  },
  {
   "cell_type": "code",
   "execution_count": 3,
   "metadata": {
    "scrolled": true
   },
   "outputs": [
    {
     "name": "stdout",
     "output_type": "stream",
     "text": [
      "***Temperature Converter***\n",
      "\n",
      "~MENU~\n",
      "\n",
      "1. Convert Fahrenheit to Celsius\n",
      "2. Convert Celsius to Fahrenheit\n",
      "3. Quit\n",
      "\n"
     ]
    },
    {
     "ename": "NameError",
     "evalue": "name 'degree' is not defined",
     "output_type": "error",
     "traceback": [
      "\u001b[1;31m---------------------------------------------------------------------------\u001b[0m",
      "\u001b[1;31mNameError\u001b[0m                                 Traceback (most recent call last)",
      "\u001b[1;32m<ipython-input-3-37f8344c22c2>\u001b[0m in \u001b[0;36m<module>\u001b[1;34m\u001b[0m\n\u001b[0;32m     29\u001b[0m \u001b[1;36m3.\u001b[0m \u001b[0mQuit\u001b[0m\u001b[1;33m\u001b[0m\u001b[1;33m\u001b[0m\u001b[0m\n\u001b[0;32m     30\u001b[0m \"\"\")\n\u001b[1;32m---> 31\u001b[1;33m     \u001b[0mconvert\u001b[0m \u001b[1;33m=\u001b[0m \u001b[0mTemp\u001b[0m\u001b[1;33m(\u001b[0m\u001b[0mdegree\u001b[0m\u001b[1;33m)\u001b[0m\u001b[1;33m\u001b[0m\u001b[1;33m\u001b[0m\u001b[0m\n\u001b[0m\u001b[0;32m     32\u001b[0m     \u001b[0mconvert\u001b[0m\u001b[1;33m.\u001b[0m\u001b[0msetDegree\u001b[0m\u001b[1;33m(\u001b[0m\u001b[0mdegree\u001b[0m\u001b[1;33m)\u001b[0m\u001b[1;33m\u001b[0m\u001b[1;33m\u001b[0m\u001b[0m\n\u001b[0;32m     33\u001b[0m     \u001b[0mchoice\u001b[0m \u001b[1;33m=\u001b[0m \u001b[0minput\u001b[0m\u001b[1;33m(\u001b[0m\u001b[1;34m\"Enter 1, 2, or 3: \"\u001b[0m\u001b[1;33m)\u001b[0m\u001b[1;33m\u001b[0m\u001b[1;33m\u001b[0m\u001b[0m\n",
      "\u001b[1;31mNameError\u001b[0m: name 'degree' is not defined"
     ]
    }
   ],
   "source": [
    "class Temp:\n",
    "    \"\"\"Attributes: degree\"\"\"\n",
    "    \n",
    "    def __init__(self, degree):\n",
    "        \"\"\"Initializes to 0 to do convertion math. \"\"\"\n",
    "        self.__degree = 0\n",
    "        \n",
    "    def setDegree(self, degree):\n",
    "        self.__degree += self.__degree\n",
    "        return self.__degree\n",
    "    \n",
    "    def toCelsius(degree): \n",
    "        degree = float(input(\"Enter degrees in Fahrenheit: \"))\n",
    "        celsius = (degree - 32) * 5/9\n",
    "        temp = round(celsius,2) # don't need getters & setters\n",
    "        print (f\"{degree}°F is {temp}°C.\")\n",
    "\n",
    "    def toFahrenheit(degree):\n",
    "        degree = float(input(\"Enter degrees in Celsius: \"))\n",
    "        fahrenheit = degree * 9/5 + 32\n",
    "        temp = round(fahrenheit,2)\n",
    "        print (f\"{degree}°C is {temp}°F.\")\n",
    "\n",
    "while True:\n",
    "    print(\"\"\"***Temperature Converter***\\n\n",
    "~MENU~\\n\n",
    "1. Convert Fahrenheit to Celsius\n",
    "2. Convert Celsius to Fahrenheit\n",
    "3. Quit\n",
    "\"\"\")\n",
    "    convert = Temp(degree)\n",
    "    convert.setDegree(degree)\n",
    "    choice = input(\"Enter 1, 2, or 3: \")\n",
    "    if choice == \"1\":\n",
    "        print()\n",
    "        toCelsius(degree)\n",
    "        print()\n",
    "    elif choice == \"2\":\n",
    "        print()\n",
    "        toFahrenheit(degree)\n",
    "        print()\n",
    "    elif choice == \"3\":\n",
    "        break\n",
    "    else:\n",
    "        print(\"Invalid option.\\n\")\n",
    "print(\"\\nBye\")\n",
    "\n"
   ]
  },
  {
   "cell_type": "markdown",
   "metadata": {},
   "source": [
    "## Exercise 2: \n",
    "Create a <b>Privileges</b> class that has privileges, a private attribute. It can store a list of strings such as \"can add\", \"can delete\", and \"can modify\".  Write a method called show_privileges(). \n",
    "\n",
    "Create a class called <b>Admin</b> that inherits from the <b>Person</b> class (see next cell). Make a Privileges instance as an attribute in the Admin class. Create a new instance of Admin and use your method to show its privileges.\n"
   ]
  },
  {
   "cell_type": "code",
   "execution_count": 10,
   "metadata": {},
   "outputs": [],
   "source": [
    "class Person :\n",
    "    \n",
    "    def __init__(self, name, age, gender) :\n",
    "        self.__name = name.title()\n",
    "        self.__age = age\n",
    "        self.__gender = gender\n",
    "\n",
    "    def get_name(self) :\n",
    "        return self.__name\n",
    "    \n",
    "    def get_info(self) :\n",
    "        return f\"Name: {self.__name}\\nAge: {self.__age}\\nGender: {self.__gender}\"\n"
   ]
  },
  {
   "cell_type": "code",
   "execution_count": 3,
   "metadata": {},
   "outputs": [],
   "source": [
    "class Admin(Person):\n",
    "    \"\"\"Creates a person as an admin with privileges\"\"\"\n",
    "    \n",
    "    def __init__(self, name, age, gender): # admin instance\n",
    "        super().__init__(name, age, gender) # person instance\n",
    "        self.__privileges = Privileges() #need to put variable in here for privileges\n",
    "    \n",
    "class Privileges: \n",
    "    \"\"\"Stores admin privileges\"\"\"\n",
    "    \n",
    "    def __init__(self, privileges=[]):\n",
    "        self.__privileges = privileges     \n",
    "    \n",
    "    def get_privileges(self): #move this to person or admin\n",
    "        return self.__privileges       \n",
    "    \n",
    "    \n",
    "    def show_privileges(self): #should be in admin\n",
    "        print(\"\\nPrivileges:\")\n",
    "        if self.get_privileges == []:\n",
    "            print(\"None\")\n",
    "        else: \n",
    "            for priv in self.get_privileges:\n",
    "                print(\"* \" + priv)\n",
    "# or have sep method of calling get privileges 10min on video"
   ]
  },
  {
   "cell_type": "code",
   "execution_count": 8,
   "metadata": {},
   "outputs": [
    {
     "data": {
      "text/plain": [
       "<__main__.Privileges at 0x14a8a7df5b0>"
      ]
     },
     "execution_count": 8,
     "metadata": {},
     "output_type": "execute_result"
    }
   ],
   "source": [
    "piggy = Admin(\"piggy\", 30, \"female\")\n",
    "piggy.get_privileges()\n",
    "piggy"
   ]
  },
  {
   "cell_type": "code",
   "execution_count": 4,
   "metadata": {},
   "outputs": [
    {
     "ename": "TypeError",
     "evalue": "__init__() takes 4 positional arguments but 5 were given",
     "output_type": "error",
     "traceback": [
      "\u001b[1;31m---------------------------------------------------------------------------\u001b[0m",
      "\u001b[1;31mTypeError\u001b[0m                                 Traceback (most recent call last)",
      "\u001b[1;32m<ipython-input-4-0a33ed0dd010>\u001b[0m in \u001b[0;36m<module>\u001b[1;34m\u001b[0m\n\u001b[1;32m----> 1\u001b[1;33m \u001b[0mpiggy\u001b[0m \u001b[1;33m=\u001b[0m \u001b[0mAdmin\u001b[0m\u001b[1;33m(\u001b[0m\u001b[1;34m\"piggy\"\u001b[0m\u001b[1;33m,\u001b[0m \u001b[1;36m30\u001b[0m\u001b[1;33m,\u001b[0m \u001b[1;34m\"female\"\u001b[0m\u001b[1;33m,\u001b[0m \u001b[1;34m\"\"\u001b[0m\u001b[1;33m)\u001b[0m\u001b[1;33m\u001b[0m\u001b[1;33m\u001b[0m\u001b[0m\n\u001b[0m\u001b[0;32m      2\u001b[0m \u001b[0mpiggy\u001b[0m\u001b[1;33m.\u001b[0m\u001b[0mget_privileges\u001b[0m\u001b[1;33m.\u001b[0m\u001b[0mshow_privileges\u001b[0m\u001b[1;33m(\u001b[0m\u001b[1;33m)\u001b[0m\u001b[1;33m\u001b[0m\u001b[1;33m\u001b[0m\u001b[0m\n",
      "\u001b[1;31mTypeError\u001b[0m: __init__() takes 4 positional arguments but 5 were given"
     ]
    }
   ],
   "source": [
    "piggy = Admin(\"piggy\", 30, \"female\", \"\")\n",
    "piggy.get_privileges.show_privileges()"
   ]
  },
  {
   "cell_type": "markdown",
   "metadata": {},
   "source": [
    "## Exercise 3:\n",
    "1. Use the Product class from next cell\n",
    "2. Add get_description() method to Product class\n",
    "3. Create Book class inherited from the Product class. Add author attribute to the Book class and make modification to get_description() method\n",
    "4. Create Movie class inherited from the Product class. Add year attributes. Add/modify necessary methods"
   ]
  },
  {
   "cell_type": "code",
   "execution_count": 127,
   "metadata": {},
   "outputs": [],
   "source": [
    "# From Day 1 Class Demo\n",
    "class Product : \n",
    "    \"\"\"A simple attempt to model a product.\"\"\"\n",
    "    \n",
    "    def __init__(self, name, price, discount_rate, description) :\n",
    "        \"\"\"Initialize name, price, and discount_rate attributes\"\"\"\n",
    "        self.name = name\n",
    "        self.price = price\n",
    "        self.discount_rate = discount_rate\n",
    "        self.description = description\n",
    "        \n",
    "    def get_description(self) :\n",
    "        \"\"\"Returns description of product\"\"\"\n",
    "        return self.description\n",
    "            \n",
    "    def get_discount_amount(self) :\n",
    "        \"\"\"Computes a discount calculation\"\"\"\n",
    "        return self.price * self.discount_rate / 100   \n",
    "    \n",
    "    def get_info(self) :\n",
    "        return(f\"Name: {self.name}\\n\" + \n",
    "                f\"Price: {self.price}\\n\" +\n",
    "                f\"Disicount Amount: ${self.get_discount_amount():,.2f}\\n\" +\n",
    "                f\"Discounted Price: ${self.get_sale_price():,.2f}\\n\" + \n",
    "                f\"Description: {description}\\n.\")\n",
    "    \n",
    "    def get_sale_price(self) :\n",
    "        \"\"\"Calls another method to find a sale price\"\"\"\n",
    "        return self.price - self.get_discount_amount()\n",
    "        \n",
    "        "
   ]
  },
  {
   "cell_type": "code",
   "execution_count": 132,
   "metadata": {},
   "outputs": [],
   "source": [
    "class Book(Product):\n",
    "    def __init__(name, price, discount_rate, description, author):\n",
    "        super().__init__(self, name, price, discount_rate, description)\n",
    "        self.author = author.title()\n",
    "        \n",
    "    def get_description(self) :\n",
    "        \"\"\"Returns descripof product\"\"\"\n",
    "        return f\"{self.description} titled {self.name} by {self.author}.\"\n",
    "\n",
    "class Movie(Product):\n",
    "    def __init__(name, price, discount_rate, description, year):\n",
    "        super().__init__(self, name, price, discount_rate, description)\n",
    "        self.year = year\n",
    "        \n",
    "    def get_description(self) :\n",
    "        \"\"\"Returns descripof product\"\"\"\n",
    "        return f\"{self.year} {self.description} called {self.name}.\"\n",
    "            "
   ]
  },
  {
   "cell_type": "code",
   "execution_count": 133,
   "metadata": {},
   "outputs": [
    {
     "ename": "TypeError",
     "evalue": "__init__() takes 5 positional arguments but 6 were given",
     "output_type": "error",
     "traceback": [
      "\u001b[1;31m---------------------------------------------------------------------------\u001b[0m",
      "\u001b[1;31mTypeError\u001b[0m                                 Traceback (most recent call last)",
      "\u001b[1;32m<ipython-input-133-06bd6f9be77f>\u001b[0m in \u001b[0;36m<module>\u001b[1;34m\u001b[0m\n\u001b[1;32m----> 1\u001b[1;33m \u001b[0mbook\u001b[0m \u001b[1;33m=\u001b[0m \u001b[0mBook\u001b[0m\u001b[1;33m(\u001b[0m\u001b[1;34m\"The Hitchhiker's Guide to the Galaxy\"\u001b[0m\u001b[1;33m,\u001b[0m \u001b[1;36m7.99\u001b[0m\u001b[1;33m,\u001b[0m \u001b[1;36m15\u001b[0m\u001b[1;33m,\u001b[0m \u001b[1;34m\"novel\"\u001b[0m\u001b[1;33m,\u001b[0m \u001b[1;34m\"Douglas Adams\"\u001b[0m\u001b[1;33m)\u001b[0m\u001b[1;33m\u001b[0m\u001b[1;33m\u001b[0m\u001b[0m\n\u001b[0m\u001b[0;32m      2\u001b[0m \u001b[0mbook\u001b[0m\u001b[1;33m.\u001b[0m\u001b[0mget_description\u001b[0m\u001b[1;33m\u001b[0m\u001b[1;33m\u001b[0m\u001b[0m\n\u001b[0;32m      3\u001b[0m \u001b[0mprint\u001b[0m\u001b[1;33m(\u001b[0m\u001b[1;33m)\u001b[0m\u001b[1;33m\u001b[0m\u001b[1;33m\u001b[0m\u001b[0m\n\u001b[0;32m      4\u001b[0m \u001b[1;33m\u001b[0m\u001b[0m\n\u001b[0;32m      5\u001b[0m \u001b[0mmovie\u001b[0m \u001b[1;33m=\u001b[0m \u001b[0mMovie\u001b[0m\u001b[1;33m(\u001b[0m\u001b[1;34m\"The Hitchhiker's Guide to the Galaxy\"\u001b[0m\u001b[1;33m,\u001b[0m \u001b[1;36m7.99\u001b[0m\u001b[1;33m,\u001b[0m \u001b[1;36m15\u001b[0m\u001b[1;33m,\u001b[0m \u001b[1;34m\"science fiction movie\"\u001b[0m\u001b[1;33m,\u001b[0m \u001b[1;36m2005\u001b[0m\u001b[1;33m)\u001b[0m\u001b[1;33m\u001b[0m\u001b[1;33m\u001b[0m\u001b[0m\n",
      "\u001b[1;31mTypeError\u001b[0m: __init__() takes 5 positional arguments but 6 were given"
     ]
    }
   ],
   "source": [
    "book = Book(\"The Hitchhiker's Guide to the Galaxy\", 7.99, 15, \"novel\", \"Douglas Adams\")\n",
    "book.get_description\n",
    "print()\n",
    "\n",
    "movie = Movie(\"The Hitchhiker's Guide to the Galaxy\", 7.99, 15, \"science fiction movie\", 2005)\n",
    "movie.get_description()"
   ]
  },
  {
   "cell_type": "markdown",
   "metadata": {},
   "source": [
    "## Exercise 4\n",
    "Create a <b>MyDate</b> class with month, day, year, hour, minute, and second <b>private attributes</b>.  Create an initialization method that takes a string in the format of \"mm-dd-yyyy hh:mm:ss\". Also create necessary public methods as needed.  \n",
    "\n",
    "Then, run below program to show your class works:\n",
    "\n",
    "    today = MyDate(\"10-10-2020 12:11:22\")\n",
    "    print(today.get_datetime())\n",
    "    today.set_datetime(\"11-31-1999 02:33:22\")\n",
    "    print(today.get_datetime())\n",
    "    print(today.get_datetime(month_first=False))"
   ]
  },
  {
   "cell_type": "code",
   "execution_count": null,
   "metadata": {},
   "outputs": [],
   "source": [
    "class MyDate: \n",
    "    \n",
    "    def (self, month, day, year, hour, minute, second):\n",
    "        self.__month = month\n",
    "        self.__day = day\n",
    "        self.__hour = hour\n",
    "        self.__minute = minute\n",
    "        self.__second = second\n",
    "        \n",
    "    def \n",
    "    "
   ]
  },
  {
   "cell_type": "code",
   "execution_count": null,
   "metadata": {},
   "outputs": [],
   "source": [
    "# main program\n",
    "today = MyDate(\"10-10-2020 12:11:22\")\n",
    "print(today.get_datetime())\n",
    "today.set_datetime(\"11-31-1999 02:33:22\")\n",
    "print(today.get_datetime())\n",
    "print(today.get_datetime(month_first=False))"
   ]
  },
  {
   "cell_type": "markdown",
   "metadata": {},
   "source": [
    "## Challenge\n",
    "\n",
    "Modify <b>MyDate</b> class: \n",
    "\n",
    "    - to validate date & time (for month, days, hour, minute, and second). \n",
    "    - to add days\n",
    "    - to add hours"
   ]
  },
  {
   "cell_type": "code",
   "execution_count": null,
   "metadata": {},
   "outputs": [],
   "source": []
  }
 ],
 "metadata": {
  "kernelspec": {
   "display_name": "Python 3",
   "language": "python",
   "name": "python3"
  },
  "language_info": {
   "codemirror_mode": {
    "name": "ipython",
    "version": 3
   },
   "file_extension": ".py",
   "mimetype": "text/x-python",
   "name": "python",
   "nbconvert_exporter": "python",
   "pygments_lexer": "ipython3",
   "version": "3.8.5"
  }
 },
 "nbformat": 4,
 "nbformat_minor": 4
}
