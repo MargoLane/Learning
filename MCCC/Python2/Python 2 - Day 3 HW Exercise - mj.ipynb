{
 "cells": [
  {
   "cell_type": "markdown",
   "metadata": {},
   "source": [
    "# OOP - Polymorphism, & Abstraction"
   ]
  },
  {
   "cell_type": "markdown",
   "metadata": {},
   "source": [
    "## Exercise 1: \n",
    "Create an abstract class called Vehicle with \n",
    "- color, make, and year private attributes \n",
    "\n",
    "and abstract method called \n",
    "- get_info() which returns all information <b>(Call to make sure works)</b>\n",
    "- honk() which returns a string of honking sound <b>(Call to make sure works)</b>\n",
    "\n",
    "Create Car, Boat, and Bicycle class which is a child class of the Vehicle class.  Then, create an instance of each child class and call get_info() method to print out its information in a user friendly format. Add other methods as you like."
   ]
  },
  {
   "cell_type": "code",
   "execution_count": 1,
   "metadata": {},
   "outputs": [],
   "source": [
    "from abc import ABC, abstractmethod"
   ]
  },
  {
   "cell_type": "code",
   "execution_count": 2,
   "metadata": {},
   "outputs": [],
   "source": [
    "class Vehicle(ABC):\n",
    "    def __init__(self,color, make, year): \n",
    "        self.__color = color\n",
    "        self.__make = make #Brand\n",
    "        self.__year = year\n",
    "    \n",
    "    @abstractmethod\n",
    "    def get_info(self): \n",
    "        return f\"{self.__year} {self.__color} {self.__make}\"\n",
    "    \n",
    "     @abstractmethod\n",
    "    def honk(self):\n",
    "        pass    # Makes required for any child but doesn't define\n",
    "    \n",
    "    def get_color(self):\n",
    "        return self.__color  \n",
    "    \n",
    "    def get_make(self):\n",
    "        return self.__make   \n",
    "\n",
    "#    def get_version(self):\n",
    "#        return self.__year + \" \" + self.__make\n",
    "\n",
    "    def get_year(self):\n",
    "        return self.__year"
   ]
  },
  {
   "cell_type": "code",
   "execution_count": 3,
   "metadata": {},
   "outputs": [],
   "source": [
    "class Boat(Vehicle):\n",
    "   # pass don't need when not defining sep child init\n",
    "    \n",
    "    def honk(self):\n",
    "        return f\"{super().get_make()}'s horn is a loud 'honk' sound.\"\n",
    "    \n",
    "    def get_info(self):\n",
    "        return f\"I have a {super().get_info()} boat.\"\n",
    "\n",
    "class Bicycle(Vehicle):\n",
    " #   pass\n",
    "\n",
    "    def honk(self):\n",
    "        return f\"{super().get_make()}'s horn is a small 'bell' sound.\"\n",
    "    \n",
    "    def get_info(self):\n",
    "        return f\"I have a {super().get_info()} bicycle.\"\n",
    "\n",
    "class Car(Vehicle): \n",
    "#    pass\n",
    "    \n",
    "    def honk(self):\n",
    "        return f\"{super().get_make()}'s horn is a quick 'beep' sound.\"\n",
    "    \n",
    "    def get_info(self):\n",
    "        return f\"I have a {super().get_info()} car.\""
   ]
  },
  {
   "cell_type": "code",
   "execution_count": 4,
   "metadata": {
    "scrolled": true
   },
   "outputs": [
    {
     "name": "stdout",
     "output_type": "stream",
     "text": [
      "I have a 2016 blue VW car.\n",
      "VW's horn is a quick 'beep' sound.\n",
      "\n",
      "I have a 2011 white Sea Ray boat.\n",
      "Sea Ray's horn is a loud 'honk' sound.\n",
      "\n",
      "I have a 2021 black Pure Cycle bicycle.\n",
      "Pure Cycle's horn is a small 'bell' sound.\n"
     ]
    }
   ],
   "source": [
    "car = Car(\"blue\", \"VW\", 2016)\n",
    "boat = Boat(\"white\", \"Sea Ray\", 2011)\n",
    "bicycle = Bicycle(\"black\", \"Pure Cycle\", 2021)\n",
    "\n",
    "print(car.get_info())\n",
    "print(car.honk())\n",
    "print()\n",
    "print(boat.get_info())\n",
    "print(boat.honk())\n",
    "print()\n",
    "print(bicycle.get_info())\n",
    "print(bicycle.honk())"
   ]
  },
  {
   "cell_type": "markdown",
   "metadata": {},
   "source": [
    "## Exercise 2: \n",
    "Create an abstract class called Person with name and address attributes, and print_info() abstract method. \n",
    "1. Build an Employee class inherited from Person class that \n",
    "    - stores hired date and salary attributes \n",
    "    - print_info() method that will be used to print out all information about an employee\n",
    "    - a method to calculate employee's monthly pay where federal tax is 15%, MD tax is 4.5%, and a local tax is 3%.\n",
    "    \n",
    "2. Build a Customer class also inherited from Person class that\n",
    "    - stores balance attribute\n",
    "    - print_info() method that will be used to print out all information about a customer\n",
    "\n",
    "\n",
    "Build any method you need but apply encapsulation at all possible. Then, write a program to show your classes work with multiple employees and customers. \n",
    "\n",
    "CHALLENGE!!!\n",
    "Create an Address class and use it in Person class"
   ]
  },
  {
   "cell_type": "code",
   "execution_count": 5,
   "metadata": {},
   "outputs": [],
   "source": [
    "class Person(ABC):\n",
    "    def __init__(self, name, address):\n",
    "        self.__name = name.title()\n",
    "        self.__address = address\n",
    "        \n",
    "    @abstractmethod\n",
    "    def print_info(self):\n",
    "      #  return f\"\\tName: {self.__name}\\n\\tAddress: {self.__address}\\n\"\n",
    "        pass #define in the child"
   ]
  },
  {
   "cell_type": "code",
   "execution_count": 6,
   "metadata": {},
   "outputs": [],
   "source": [
    "class Employee(Person):\n",
    "    def __init__(self, name, address, hired_date, salary):\n",
    "        super().__init__(name, address)\n",
    "        self.__hired_date = hired_date # mmddyyyy\n",
    "        self.__salary = salary\n",
    "        \n",
    "    def get_hired_date(self):\n",
    "        return self.__hired_date\n",
    "    \n",
    "    def set_hired_date(self, month, day, year):\n",
    "        self.__month = month #mm\n",
    "        self.__day = day #dd\n",
    "        self.__year = year #yyyy\n",
    "        date = f\"{month} \"/\" {day} \"/\" {year}\"\n",
    "        return date\n",
    "    \n",
    "    def get_salary_annual(self):\n",
    "        return f\"${self.__salary:,.2f}\"\n",
    "    \n",
    "    def monthly_pay(self):\n",
    "        fed_tax = self.__salary * 0.15\n",
    "        md_tax = self.__salary * 0.045\n",
    "        local_tax = self.__salary * 0.03\n",
    "        tax_total = fed_tax + md_tax + local_tax\n",
    "        pay = (self.__salary - tax_total) / 12\n",
    "        return f\"${pay:,.2f}\"\n",
    "        \n",
    "    def print_info(self):\n",
    "        return f\"~~~Employee Data\\n{super().print_info()}\\n\\tHired: {self.get_hired_date()}\\n \\tAnnual Salary: {self.get_salary_annual()}\\n \\tMonthly Salary: {self.monthly_pay()}\\n\""
   ]
  },
  {
   "cell_type": "code",
   "execution_count": 7,
   "metadata": {},
   "outputs": [
    {
     "name": "stdout",
     "output_type": "stream",
     "text": [
      "~~~Employee Data\n",
      "\tName: Tester\n",
      "\tAddress: 123 Main Street\n",
      "\n",
      "\tHired: 10/10/2010\n",
      " \tAnnual Salary: $60,000.00\n",
      " \tMonthly Salary: $3,875.00\n",
      "\n",
      "\n",
      "~~~Employee Data\n",
      "\tName: Example\n",
      "\tAddress: 234 Main Street\n",
      "\n",
      "\tHired: 11/11/2011\n",
      " \tAnnual Salary: $57,850.00\n",
      " \tMonthly Salary: $3,736.15\n",
      "\n",
      "\n",
      "~~~Employee Data\n",
      "\tName: Check\n",
      "\tAddress: 345 Main Street\n",
      "\n",
      "\tHired: 12/12/2012\n",
      " \tAnnual Salary: $138,257.00\n",
      " \tMonthly Salary: $8,929.10\n",
      "\n"
     ]
    }
   ],
   "source": [
    "emp1 = Employee(\"Tester\", \"123 Main Street\", \"10/10/2010\", 60000)\n",
    "print(emp1.print_info())\n",
    "print()\n",
    "\n",
    "emp2 = Employee(\"Example\", \"234 Main Street\", \"11/11/2011\", 57850)\n",
    "print(emp2.print_info())\n",
    "print()\n",
    "\n",
    "emp3 = Employee(\"Check\", \"345 Main Street\", \"12/12/2012\", 138257)\n",
    "print(emp3.print_info())"
   ]
  },
  {
   "cell_type": "code",
   "execution_count": 11,
   "metadata": {},
   "outputs": [],
   "source": [
    "class Customer(Person):\n",
    "    def __init__(self, name, address, balance):\n",
    "        super().__init__(name, address)\n",
    "        self.__balance = balance\n",
    "        \n",
    "#    def adj_bal(self):\n",
    "#        total = float(self.__balance) + self.increase_bal(amount) - self.reduce_bal(amount)\n",
    "#        return total\n",
    "\n",
    "    def get_balance(self):\n",
    "        return self.__balance\n",
    "\n",
    "#    def increase_bal(self, amount):\n",
    "#        high_total = float(self.__balance) + float(amount)\n",
    "#        return high_total\n",
    "    \n",
    "#    def reduce_bal(self, amount):\n",
    "#        low_total = float(self.__balance) - float(amount)\n",
    "#        return low_total\n",
    "           \n",
    "    def print_info(self):\n",
    "        return f\"***Customer Data:\\n{super().print_info()} \\tBalance: ${self.get_balance()}\\n\""
   ]
  },
  {
   "cell_type": "code",
   "execution_count": 12,
   "metadata": {},
   "outputs": [
    {
     "name": "stdout",
     "output_type": "stream",
     "text": [
      "***Customer Data:\n",
      "\tName: Buyer\n",
      "\tAddress: 456 Main Street\n",
      " \tBalance: $11.75\n",
      "\n",
      "\n",
      "***Customer Data:\n",
      "\tName: Purchaser\n",
      "\tAddress: 567 Main Street\n",
      " \tBalance: $21.37\n",
      "\n",
      "\n",
      "***Customer Data:\n",
      "\tName: Vendor\n",
      "\tAddress: 678 Main Street\n",
      " \tBalance: $15.82\n",
      "\n"
     ]
    }
   ],
   "source": [
    "cust1 = Customer(\"Buyer\", \"456 Main Street\", 11.75)\n",
    "#cust1.reduce_bal(5)\n",
    "#cust1.increase_bal(2.37)\n",
    "print(cust1.print_info())\n",
    "print()\n",
    "\n",
    "cust2 = Customer(\"Purchaser\", \"567 Main Street\", 21.37)\n",
    "print(cust2.print_info())\n",
    "print()\n",
    "\n",
    "cust3 = Customer(\"Vendor\", \"678 Main Street\", 15.82)\n",
    "print(cust3.print_info())"
   ]
  },
  {
   "cell_type": "code",
   "execution_count": 10,
   "metadata": {},
   "outputs": [],
   "source": [
    "# Challenge\n",
    "\n",
    "class Address(Person):\n",
    "    def __init__(self, main, city, state, zip_code):\n",
    "        self.__address = address\n",
    "        self.city = city\n",
    "        self.state = state\n",
    "        self.zip_code = zip_code"
   ]
  }
 ],
 "metadata": {
  "kernelspec": {
   "display_name": "Python 3",
   "language": "python",
   "name": "python3"
  },
  "language_info": {
   "codemirror_mode": {
    "name": "ipython",
    "version": 3
   },
   "file_extension": ".py",
   "mimetype": "text/x-python",
   "name": "python",
   "nbconvert_exporter": "python",
   "pygments_lexer": "ipython3",
   "version": "3.8.5"
  }
 },
 "nbformat": 4,
 "nbformat_minor": 4
}
