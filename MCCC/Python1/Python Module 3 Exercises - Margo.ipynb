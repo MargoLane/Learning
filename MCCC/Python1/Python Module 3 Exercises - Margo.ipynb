{
 "cells": [
  {
   "cell_type": "markdown",
   "metadata": {},
   "source": [
    "Exercise 1. Ask for a color and store that answer. \n",
    "If the answer is grey then print out you found Victor's favorite color.\n",
    "Otherwise print out the color is not Victor's favorite color."
   ]
  },
  {
   "cell_type": "code",
   "execution_count": 41,
   "metadata": {},
   "outputs": [
    {
     "name": "stdout",
     "output_type": "stream",
     "text": [
      "Enter a color: PURPLE\n",
      "Purple is not Victor's favorite color.\n",
      "\n",
      "Enter a color: GREY\n",
      "Grey is not Victor's favorite color.\n"
     ]
    }
   ],
   "source": [
    "def favColor(color):\n",
    "    #color.lower()\n",
    "    if color == \"grey\": \n",
    "        print(\"You found that\", color, \"is Victor's favorite color.\")\n",
    "    else: \n",
    "        print(color.title(),\"is not Victor's favorite color.\")\n",
    "\n",
    "color= input(\"Enter a color: \")\n",
    "favColor(color.lower())\n",
    "print()\n",
    "color= input(\"Enter a color: \")\n",
    "favColor(color.lower())\n",
    "\n",
    "\"\"\"\" Commentted out line 2 bc it didn't convert the input to lowercase. \n",
    "I also tried updating line 4 to color.lower() but it didn't work. \n",
    "Is there a way I could have made that work? \"\"\""
   ]
  },
  {
   "cell_type": "markdown",
   "metadata": {},
   "source": [
    "Exercise 2. Modify code from above exercise 1 and add in more conditions for other colors such as red, green, blue and then, write statements for them. "
   ]
  },
  {
   "cell_type": "code",
   "execution_count": 46,
   "metadata": {},
   "outputs": [
    {
     "name": "stdout",
     "output_type": "stream",
     "text": [
      "Enter a color: BLUE\n",
      "Blue is your favorite color.\n",
      "Blue is also Steve's favorite color.\n",
      "\n",
      "Enter a color: ORANGE\n",
      "Orange is your favorite color.\n",
      "Orange may be someone else's favorite color also.\n"
     ]
    }
   ],
   "source": [
    "def favColor2(color):\n",
    "    print(color.title(), \"is your favorite color.\")\n",
    "    if color == \"grey\":\n",
    "        print(color.title(), \"is also Victor's favorite color.\")\n",
    "    elif color == \"red\":\n",
    "        print(color.title(), \"is also Welma's favorite color.\")\n",
    "    elif color == \"green\":\n",
    "        print(color.title(), \"is also Beast-boy's favorite color.\")\n",
    "    elif color == \"blue\":\n",
    "        print(color.title(), \"is also Steve's favorite color.\")\n",
    "    else:\n",
    "        print(color.title(),\"may be someone else's favorite color also.\")\n",
    "\n",
    "    \n",
    "color= input(\"Enter a color: \")\n",
    "favColor2(color.lower())\n",
    "print()\n",
    "color= input(\"Enter a color: \")\n",
    "favColor2(color.lower())"
   ]
  },
  {
   "cell_type": "markdown",
   "metadata": {},
   "source": [
    "Exercise 3. Ask for an exam score and store that number. If the number is greater than 100, then print out 'You cannot have an exam score higher than 100'. If the number doesn't exceeed 100 but is greater than or equal to 75, then print out 'You did great on your exam!'. Otherwise if they scored lower than 75, then print out 'You need to study harder'."
   ]
  },
  {
   "cell_type": "code",
   "execution_count": 56,
   "metadata": {},
   "outputs": [
    {
     "name": "stdout",
     "output_type": "stream",
     "text": [
      "Enter exam score: 85\n",
      "You did great on your exam!\n"
     ]
    }
   ],
   "source": [
    "def examCom(): \n",
    "    if score <75: \n",
    "        print(\"You need to study harder.\")\n",
    "    elif score >=75 and score <=100: \n",
    "        print(\"You did great on your exam!\")\n",
    "    else: \n",
    "        print(\"You cannot have a score higher than 100.\")\n",
    "\n",
    "score= float(input(\"Enter exam score: \"))\n",
    "examCom()"
   ]
  },
  {
   "cell_type": "markdown",
   "metadata": {},
   "source": [
    "Exercise 4. \n",
    "Define two functions: \n",
    "    - a function that takes 3 arguements and returns the sum of three arguements\n",
    "    - a function that takes 2 arguements and returns the result of 1st arguement multiplied by 2nd arguement\n",
    "\n",
    "Then tell the user to choose option 1 to add three numbers or option 2 to multiply two numbers.\n",
    "If the user choose option 1 then call the addition function, otherwise if they choose option 2 then call the mulitplication function.  If the user choose anything other than option 1 or 2, then generate a friendly error messsage"
   ]
  },
  {
   "cell_type": "code",
   "execution_count": 75,
   "metadata": {},
   "outputs": [
    {
     "name": "stdout",
     "output_type": "stream",
     "text": [
      "Do you want to add 3 numbers (enter '1') or multiply 2 numbers (enter '2'): 1\n",
      "Enter first number: 7\n",
      "Enter second number: 8\n",
      "Enter last number: 9\n",
      "24\n",
      "\n",
      "Do you want to add 3 numbers (enter '1') or multiply 2 numbers (enter '2'): 2\n",
      "Enter first number: 6\n",
      "Enter last number: 3\n",
      "18\n",
      "\n",
      "Do you want to add 3 numbers (enter '1') or multiply 2 numbers (enter '2'): 3\n",
      "Invalid option. Please try again.\n"
     ]
    }
   ],
   "source": [
    "def addThree(no1, no2, no3):\n",
    "    return no1 + no2 + no3\n",
    "\n",
    "def multiplyTwo(no1, no2):\n",
    "    return no1 * no2\n",
    "\n",
    "def nextStep(option):\n",
    "    if option == \"1\":\n",
    "        no1= int(input(\"Enter first number: \"))\n",
    "        no2= int(input(\"Enter second number: \"))\n",
    "        no3= int(input(\"Enter last number: \"))\n",
    "        result= addThree(no1, no2, no3)\n",
    "        print(result)\n",
    "    elif option == \"2\":\n",
    "        no1= int(input(\"Enter first number: \"))\n",
    "        no2= int(input(\"Enter last number: \"))\n",
    "        result= multiplyTwo(no1, no2)\n",
    "        print(result)\n",
    "    else: \n",
    "        print(\"Invalid option. Please try again.\")\n",
    "\n",
    "option= input(\"Do you want to add 3 numbers (enter '1') or multiply 2 numbers (enter '2'): \")\n",
    "nextStep(option)\n",
    "print()\n",
    "option= input(\"Do you want to add 3 numbers (enter '1') or multiply 2 numbers (enter '2'): \")\n",
    "nextStep(option)\n",
    "print()\n",
    "option= input(\"Do you want to add 3 numbers (enter '1') or multiply 2 numbers (enter '2'): \")\n",
    "nextStep(option)"
   ]
  },
  {
   "cell_type": "markdown",
   "metadata": {},
   "source": [
    "Exercise 5. \n",
    "Write a function to convert a test score to a grade where  \n",
    " - 90 - 100: A\n",
    " - 80 - 89:  B\n",
    " - 70 - 79:  C\n",
    " - 60 - 69:  D\n",
    " - < 60   :  F\n",
    " \n",
    "If a score is not between 0 and 100 then print out an error message. In the program, ask the user for a score and then call your function. "
   ]
  },
  {
   "cell_type": "code",
   "execution_count": 109,
   "metadata": {},
   "outputs": [
    {
     "name": "stdout",
     "output_type": "stream",
     "text": [
      "Enter the score: 7.5\n",
      "F\n",
      "\n",
      "Enter the score: 73.5\n",
      "C\n"
     ]
    }
   ],
   "source": [
    "def scoreToLetter(score):\n",
    "    if score >100 or score <0: \n",
    "        print(\"Invalid score\")\n",
    "    if score >=90 and score <=100:\n",
    "        print(\"A\")\n",
    "    elif score >=80 and score <=89: \n",
    "        print(\"B\")\n",
    "    elif score >=70 and score <=79:\n",
    "        print(\"C\")\n",
    "    elif score >=60 and score <=69:\n",
    "        print(\"D\")\n",
    "    else: \n",
    "        print(\"F\")\n",
    "\n",
    "score= float(input(\"Enter the score: \"))\n",
    "scoreToLetter(score)\n",
    "print()\n",
    "score= float(input(\"Enter the score: \"))\n",
    "scoreToLetter(score)"
   ]
  },
  {
   "cell_type": "markdown",
   "metadata": {},
   "source": [
    "Exercise 6. Write a program to compute discounts for customers.  \n",
    "- For retail customers, \n",
    "    - if invoice total is greater than \\$100 then discount rate is 10\\%, otherwise no discount \n",
    "\n",
    "- For wholesale customers,\n",
    "    - if invoice total is greater than \\$500 then discount rate is 30\\%, otherwise discount rate is 20\\%\n",
    "    \n",
    "Get the type of customer and the invoice total from the user."
   ]
  },
  {
   "cell_type": "code",
   "execution_count": 113,
   "metadata": {},
   "outputs": [
    {
     "name": "stdout",
     "output_type": "stream",
     "text": [
      "Type of customer (enter '1' if retail or '2' if wholesale)?: 1\n",
      "Enter order total: $99\n",
      "The retail discount is $0.00.\n",
      "Not a valid option.\n",
      "\n",
      "Type of customer (enter '1' if retail or '2' if wholesale)?: 1\n",
      "Enter order total: $135\n",
      "The retail discount is $13.50.\n",
      "Not a valid option.\n",
      "\n",
      "Type of customer (enter '1' if retail or '2' if wholesale)?: 2\n",
      "Enter order total: $487\n",
      "The wholesale discount is $97.40.\n",
      "\n",
      "Type of customer (enter '1' if retail or '2' if wholesale)?: 2\n",
      "Enter order total: $532\n",
      "The wholesale discount is $159.60.\n"
     ]
    }
   ],
   "source": [
    "def discRetail(total):\n",
    "    if total <=100: \n",
    "        return 0\n",
    "    if total >=101:\n",
    "        return total * .1\n",
    "\n",
    "def discWS(total):\n",
    "    if total <=500: \n",
    "        return (total * .2)\n",
    "    if total >=501:\n",
    "        return total * .3\n",
    "\n",
    "def custType(cust): \n",
    "    if cust== '1':\n",
    "        print(f\"The retail discount is ${discRetail(total):,.2f}.\")\n",
    "    if cust== '2':\n",
    "        print(f\"The wholesale discount is ${discWS(total):,.2f}.\")\n",
    "    else:\n",
    "        print(\"Not a valid option.\")\n",
    "\n",
    "cust= input(\"Type of customer (enter '1' if retail or '2' if wholesale)?: \")\n",
    "total= float(input(\"Enter order total: $\"))\n",
    "custType(cust)\n",
    "print()\n",
    "cust= input(\"Type of customer (enter '1' if retail or '2' if wholesale)?: \")\n",
    "total= float(input(\"Enter order total: $\"))\n",
    "custType(cust)\n",
    "print()\n",
    "cust= input(\"Type of customer (enter '1' if retail or '2' if wholesale)?: \")\n",
    "total= float(input(\"Enter order total: $\"))\n",
    "custType(cust)\n",
    "print()\n",
    "cust= input(\"Type of customer (enter '1' if retail or '2' if wholesale)?: \")\n",
    "total= float(input(\"Enter order total: $\"))\n",
    "custType(cust)"
   ]
  },
  {
   "cell_type": "markdown",
   "metadata": {},
   "source": [
    "Exercise 7: Write a function that accepts two parameters (a and b) and returns a result of a/b.  In this function, try to catch any exception error.  Then, write a program to get two numbers from a user, call your function using these two numbers, and print out the result in a friendly format.  All input and print statements must be done in the main program. Repeat the process until user wants to quit the program. "
   ]
  },
  {
   "cell_type": "code",
   "execution_count": 140,
   "metadata": {},
   "outputs": [
    {
     "name": "stdout",
     "output_type": "stream",
     "text": [
      "Enter a first number: 6\n",
      "Enter a second number: 3\n",
      "The result of the first number divided by the second is 2.0.\n"
     ]
    }
   ],
   "source": [
    "import sys\n",
    "\n",
    "def divide(a, b):\n",
    "    try: \n",
    "        a= int(input(\"Enter a first number: \"))\n",
    "        b= int(input(\"Enter a second number: \"))\n",
    "        result = a / b\n",
    "        return result\n",
    "    except: \n",
    "        result = 0\n",
    "        print(\"Encountered a \", sys.exc_info()[0], \"error.\")\n",
    "\n",
    "\n",
    "print(f\"The result of the first number divided by the second is {divide(a,b)}.\")"
   ]
  },
  {
   "cell_type": "markdown",
   "metadata": {},
   "source": [
    "Exercise 8: Write a function to generate a multiplication table. Then write a program to ask a user if user wants to generate a  mutiplication table for a random number or provide a number. The program should continue to run until a user wants to quit."
   ]
  },
  {
   "cell_type": "code",
   "execution_count": 197,
   "metadata": {},
   "outputs": [
    {
     "name": "stdout",
     "output_type": "stream",
     "text": [
      "Enter a number 2-12 (Enter '1' for random or '0' to quit): 1\n",
      "The 12 Multiplication Table from 2-12:\n",
      "\n",
      "12 X 2 = 24\n",
      "12 X 3 = 36\n",
      "12 X 4 = 48\n",
      "12 X 5 = 60\n",
      "12 X 6 = 72\n",
      "12 X 7 = 84\n",
      "12 X 8 = 96\n",
      "12 X 9 = 108\n",
      "12 X 10 = 120\n",
      "12 X 11 = 132\n",
      "12 X 12 = 144\n",
      "****************************** \n",
      "\n",
      "Enter a number 2-12 (Enter '1' for random or '0' to quit): 2\n",
      "The 2 Multiplication Table from 2-12:\n",
      "\n",
      "2 X 2 = 4\n",
      "2 X 3 = 6\n",
      "2 X 4 = 8\n",
      "2 X 5 = 10\n",
      "2 X 6 = 12\n",
      "2 X 7 = 14\n",
      "2 X 8 = 16\n",
      "2 X 9 = 18\n",
      "2 X 10 = 20\n",
      "2 X 11 = 22\n",
      "2 X 12 = 24\n",
      "****************************** \n",
      "\n",
      "Enter a number 2-12 (Enter '1' for random or '0' to quit): 0\n",
      "Math later!\n"
     ]
    }
   ],
   "source": [
    "import random as rand\n",
    "\n",
    "num= int(input(\"Enter a number 2-12 (Enter '1' for random or '0' to quit): \"))\n",
    "\n",
    "def multiply_table(num):\n",
    "    while num != 0: \n",
    "        if num == 1:\n",
    "            num = rand.randint(2,12)\n",
    "            print(\"The\", num, \"Multiplication Table from 2-12:\\n\")\n",
    "            for i in range(2,13):\n",
    "                print(num, \"X\", i, \"=\", num * i)\n",
    "            print(\"*\"*30, \"\\n\")\n",
    "            num= int(input(\"Enter a number 2-12 (Enter '1' for random or '0' to quit): \"))\n",
    "        else: \n",
    "            print(\"The\", num, \"Multiplication Table from 2-12:\\n\")\n",
    "            for i in range(2,13):\n",
    "                print(num, \"X\", i, \"=\", num * i)\n",
    "            print(\"*\"*30, \"\\n\")\n",
    "            num= int(input(\"Enter a number 2-12 (Enter '1' for random or '0' to quit): \"))\n",
    "    print(\"Math later!\")\n",
    "\n",
    "multiply_table(num)\n"
   ]
  },
  {
   "cell_type": "markdown",
   "metadata": {},
   "source": [
    "Exercise 9: Write a function to draw a right-triangle using a number as a character.Then, write a program to generate a random number between 1 and 9, call your function with that random number.  The output should look something like this:\n",
    "\n",
    "        base: 5\n",
    "        5\n",
    "        55\n",
    "        555\n",
    "        5555\n",
    "        55555\n",
    "\n",
    "\n",
    "        base: 8\n",
    "        8\n",
    "        88\n",
    "        888\n",
    "        8888\n",
    "        88888\n",
    "        888888\n",
    "        8888888\n",
    "        88888888"
   ]
  },
  {
   "cell_type": "code",
   "execution_count": 230,
   "metadata": {},
   "outputs": [
    {
     "name": "stdout",
     "output_type": "stream",
     "text": [
      "Base:  8\n",
      "8\n",
      "88\n",
      "888\n",
      "8888\n",
      "88888\n",
      "888888\n",
      "8888888\n",
      "88888888\n"
     ]
    }
   ],
   "source": [
    "#import random as rand (already done)\n",
    "\n",
    "base= rand.randint(1,9)\n",
    "rows= base\n",
    "\n",
    "def rightTri(base): \n",
    "    print(\"Base: \", base)\n",
    "    for i in range(1,rows+1):\n",
    "        print(str(base)*i)\n",
    "    \n",
    "rightTri(base)"
   ]
  },
  {
   "cell_type": "markdown",
   "metadata": {},
   "source": [
    "Exercise 10: Modify function from exercise 9 to show output like this:\n",
    "\n",
    "        base: 5\n",
    "            5\n",
    "           55\n",
    "          555\n",
    "         5555 \n",
    "        55555\n",
    "        \n",
    "        base: 8\n",
    "               8\n",
    "              88\n",
    "             888\n",
    "            8888\n",
    "           88888\n",
    "          888888\n",
    "         8888888\n",
    "        88888888 "
   ]
  },
  {
   "cell_type": "code",
   "execution_count": 332,
   "metadata": {},
   "outputs": [
    {
     "name": "stdout",
     "output_type": "stream",
     "text": [
      "Base:  4\n",
      "4444\n",
      "4444\n",
      "4444\n",
      "4444\n",
      "44\n"
     ]
    }
   ],
   "source": [
    "#import random as rand (already done)\n",
    "\n",
    "base= rand.randint(1,9)\n",
    "rows= base\n",
    "\n",
    "def flipTwiceRightTri(base): \n",
    "    print(\"Base: \", base)\n",
    "    while i in range(rows+1,1):\n",
    "        j= rows-1\n",
    "        print(j)\n",
    "        \n",
    "        \n",
    "        \n",
    "#        j= str(base)*rows\n",
    " #       print(j)\n",
    "  #      for j in range(1,rows):\n",
    "   #         i= j-1\n",
    "    #print(i*(str(rows)))\n",
    "    \n",
    "flipRightTri(base)\n",
    "\n",
    "#def rightTri(base): \n",
    "#    print(\"Base: \", base)\n",
    "#    for i in range(1,rows+1):\n",
    "#        print(str(base)*i)"
   ]
  },
  {
   "cell_type": "code",
   "execution_count": null,
   "metadata": {},
   "outputs": [],
   "source": []
  }
 ],
 "metadata": {
  "kernelspec": {
   "display_name": "Python 3",
   "language": "python",
   "name": "python3"
  },
  "language_info": {
   "codemirror_mode": {
    "name": "ipython",
    "version": 3
   },
   "file_extension": ".py",
   "mimetype": "text/x-python",
   "name": "python",
   "nbconvert_exporter": "python",
   "pygments_lexer": "ipython3",
   "version": "3.8.5"
  }
 },
 "nbformat": 4,
 "nbformat_minor": 4
}
