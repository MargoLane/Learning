{
 "cells": [
  {
   "cell_type": "markdown",
   "metadata": {},
   "source": [
    "Exercise 1: Make an empty list and call it names"
   ]
  },
  {
   "cell_type": "code",
   "execution_count": 10,
   "metadata": {},
   "outputs": [
    {
     "name": "stdout",
     "output_type": "stream",
     "text": [
      "[]\n"
     ]
    }
   ],
   "source": [
    "names = []\n",
    "print(names)"
   ]
  },
  {
   "cell_type": "markdown",
   "metadata": {},
   "source": [
    "Exercise 2: Make names filled with names of 5 people: Hannah, Victor, Sam, James, Sarah"
   ]
  },
  {
   "cell_type": "code",
   "execution_count": 11,
   "metadata": {},
   "outputs": [
    {
     "name": "stdout",
     "output_type": "stream",
     "text": [
      "['Hannah', 'Victor', 'Sam', 'James', 'Sarah']\n"
     ]
    }
   ],
   "source": [
    "names.append(\"Hannah\")\n",
    "names.append(\"Victor\")\n",
    "names.append(\"Sam\")\n",
    "names.append(\"James\")\n",
    "names.append(\"Sarah\")\n",
    "print(names)"
   ]
  },
  {
   "cell_type": "markdown",
   "metadata": {},
   "source": [
    "Exercise 3: Make names sort in reverse. Print out the list using a for-loop"
   ]
  },
  {
   "cell_type": "code",
   "execution_count": 15,
   "metadata": {},
   "outputs": [
    {
     "name": "stdout",
     "output_type": "stream",
     "text": [
      "['Victor', 'Sarah', 'Sam', 'James', 'Hannah']\n"
     ]
    }
   ],
   "source": [
    "names.sort(reverse=True)\n",
    "\n",
    "for i in [names]:\n",
    "    print(names)"
   ]
  },
  {
   "cell_type": "markdown",
   "metadata": {},
   "source": [
    "Exercise 4: Make names sorted alphabetically. Print out the list using while loop"
   ]
  },
  {
   "cell_type": "code",
   "execution_count": 18,
   "metadata": {},
   "outputs": [
    {
     "name": "stdout",
     "output_type": "stream",
     "text": [
      "['Hannah', 'James', 'Sam', 'Sarah', 'Victor']\n"
     ]
    }
   ],
   "source": [
    "names.sort()\n",
    "\n",
    "for i in [names]:\n",
    "    print(names)"
   ]
  },
  {
   "cell_type": "markdown",
   "metadata": {},
   "source": [
    "Exercise 5: Pull out the fourth item from names and print it out"
   ]
  },
  {
   "cell_type": "code",
   "execution_count": 19,
   "metadata": {},
   "outputs": [
    {
     "name": "stdout",
     "output_type": "stream",
     "text": [
      "Sarah\n"
     ]
    }
   ],
   "source": [
    "pop1 = names.pop(3)\n",
    "print(pop1)"
   ]
  },
  {
   "cell_type": "markdown",
   "metadata": {},
   "source": [
    "Exercise 6: Pull out the first item from names and print it out"
   ]
  },
  {
   "cell_type": "code",
   "execution_count": 20,
   "metadata": {},
   "outputs": [
    {
     "name": "stdout",
     "output_type": "stream",
     "text": [
      "Hannah\n"
     ]
    }
   ],
   "source": [
    "pop2 = names.pop(0)\n",
    "print(pop2)"
   ]
  },
  {
   "cell_type": "markdown",
   "metadata": {},
   "source": [
    "Exercise 7: Make a variable named fruits that contains a string \"Apples, Oranges, Bananas, Pineapples, Persimmons, Dragonfruit\" and make it into a list splitting it by the commas."
   ]
  },
  {
   "cell_type": "code",
   "execution_count": 23,
   "metadata": {},
   "outputs": [
    {
     "name": "stdout",
     "output_type": "stream",
     "text": [
      "['Apples', ' Oranges', ' Bananas', ' Pineapples', ' Persimmons', ' Dragonfruit']\n"
     ]
    }
   ],
   "source": [
    "fruits = \"Apples, Oranges, Bananas, Pineapples, Persimmons, Dragonfruit\"\n",
    "fruitsList = fruits.split(\",\")\n",
    "print(fruitsList)"
   ]
  },
  {
   "cell_type": "markdown",
   "metadata": {},
   "source": [
    "Exercise 8: Create a list of the first 10 square numbers. i.e. the square of each integer from 1 to 10. "
   ]
  },
  {
   "cell_type": "code",
   "execution_count": 115,
   "metadata": {},
   "outputs": [
    {
     "name": "stdout",
     "output_type": "stream",
     "text": [
      "[1, 4, 9, 16, 25, 36, 49, 64, 81, 100]\n"
     ]
    }
   ],
   "source": [
    "sqNums = []\n",
    "nums = 1\n",
    "\n",
    "while nums <= 10:\n",
    "    square = nums * nums\n",
    "    sqNums.append(square)\n",
    "    nums += 1\n",
    "\n",
    "print(sqNums) "
   ]
  },
  {
   "cell_type": "markdown",
   "metadata": {},
   "source": [
    "Exercise 9: Create a multiplication table from 1 to 10"
   ]
  },
  {
   "cell_type": "code",
   "execution_count": 28,
   "metadata": {},
   "outputs": [
    {
     "name": "stdout",
     "output_type": "stream",
     "text": [
      "The 1's Multiple Table 1 - 10: [1, 2, 3, 4, 5, 6, 7, 8, 9, 10]\n",
      "***************************************************************************\n",
      "\n",
      "The 2's Multiple Table 1 - 10: [2, 4, 6, 8, 10, 12, 14, 16, 18, 20]\n",
      "***************************************************************************\n",
      "\n",
      "The 3's Multiple Table 1 - 10: [3, 6, 9, 12, 15, 18, 21, 24, 27, 30]\n",
      "***************************************************************************\n",
      "\n",
      "The 4's Multiple Table 1 - 10: [4, 8, 12, 16, 20, 24, 28, 32, 36, 40]\n",
      "***************************************************************************\n",
      "\n",
      "The 5's Multiple Table 1 - 10: [5, 10, 15, 20, 25, 30, 35, 40, 45, 50]\n",
      "***************************************************************************\n",
      "\n",
      "The 6's Multiple Table 1 - 10: [6, 12, 18, 24, 30, 36, 42, 48, 54, 60]\n",
      "***************************************************************************\n",
      "\n",
      "The 7's Multiple Table 1 - 10: [7, 14, 21, 28, 35, 42, 49, 56, 63, 70]\n",
      "***************************************************************************\n",
      "\n",
      "The 8's Multiple Table 1 - 10: [8, 16, 24, 32, 40, 48, 56, 64, 72, 80]\n",
      "***************************************************************************\n",
      "\n",
      "The 9's Multiple Table 1 - 10: [9, 18, 27, 36, 45, 54, 63, 72, 81, 90]\n",
      "***************************************************************************\n",
      "\n",
      "The 10's Multiple Table 1 - 10: [10, 20, 30, 40, 50, 60, 70, 80, 90, 100]\n",
      "***************************************************************************\n",
      "\n"
     ]
    }
   ],
   "source": [
    "times = [1, 2, 3, 4, 5, 6, 7, 8, 9, 10]\n",
    "num1 = 1\n",
    "table = [] #create initial empty list\n",
    "\n",
    "while num1 <=10:\n",
    "    for i in times: #running thru each index in the list\n",
    "        product = num1 * i\n",
    "        table.append(product)\n",
    "    print(f\"The {num1}'s Multiple Table 1 - 10: {table}\")\n",
    "    print(\"*\"*75)\n",
    "    print()\n",
    "    table = [] #reset list to empty\n",
    "    num1 += 1\n",
    "\n",
    "    "
   ]
  },
  {
   "cell_type": "markdown",
   "metadata": {},
   "source": [
    "Exercise 10: Write a program that gets test scores from a user and then calculates and displays the average of the scores that have been enter. The output of the program should show the original scores and the average. "
   ]
  },
  {
   "cell_type": "code",
   "execution_count": 53,
   "metadata": {},
   "outputs": [
    {
     "name": "stdout",
     "output_type": "stream",
     "text": [
      "Averaging Test Scores\n",
      "\n",
      "Enter a test score: 10\n",
      "Enter another score (y/n)? y\n",
      "Enter a test score: 20\n",
      "Enter another score (y/n)? n\n",
      "\n",
      "The scores are: [10, 20].\n",
      "The average of the 2 score(s) is 15.0.\n"
     ]
    }
   ],
   "source": [
    "print(\"Averaging Test Scores\\n\")\n",
    "\n",
    "cont = \"y\" #condition check\n",
    "total = 0 #counter\n",
    "sumScore = 0 #counter\n",
    "scores = [] #create an empty list\n",
    "\n",
    "\n",
    "while cont != \"n\":\n",
    "    total += 1\n",
    "    score = int(input(\"Enter a test score: \"))\n",
    "    scores.append(score)\n",
    "    sumScore += score\n",
    "    cont = input(\"Enter another score (y/n)? \")\n",
    "\n",
    "avg = sumScore / total\n",
    "\n",
    "print(f\"\\nThe scores are: {scores}.\")\n",
    "print(f\"The average of the {total} score(s) is {avg}.\")\n",
    "    \n",
    "#is there a method to ignore case in Python?"
   ]
  },
  {
   "cell_type": "markdown",
   "metadata": {},
   "source": [
    "Challenge:\n",
    "Write a program that maintains a list of movies, and the user can list all the movies, add a movie to the list, or delete a movie from the list.\n",
    "\n",
    "Example\n",
    "\n",
    "###### COMMAND MENU\n",
    "```\n",
    "list - list all movies\n",
    "add - add a movie\n",
    "del - delete a movie\n",
    "exit - exit program \n",
    "```\n",
    "\n",
    "###### Command: list\n",
    "``` \n",
    " 1. Toy Story\n",
    " 2. Lion King\n",
    " 3. Frozen\n",
    " ```\n",
    "\n",
    "###### Command: add\n",
    " ```\n",
    " Name: Snow White\n",
    " Snow White was added.\n",
    " ```\n",
    "\n",
    "###### Command: del\n",
    "```\n",
    " Number: 3\n",
    " Frozen was deleted.```\n",
    "\n"
   ]
  },
  {
   "cell_type": "code",
   "execution_count": 70,
   "metadata": {},
   "outputs": [
    {
     "name": "stdout",
     "output_type": "stream",
     "text": [
      "\n",
      "    Command Menu:\n",
      "\n",
      "    List - list all movies\n",
      "    Add - add a movie\n",
      "    Del - delete a movie\n",
      "    Exit - exit program \n",
      "\n",
      "Enter,'1' to list movies, '2' to add a movie, '3' to delete a movie, or '4' to exit menu: 1\n",
      "List is emppty.\n",
      "Menu Exit\n"
     ]
    }
   ],
   "source": [
    "def addMovie(): \n",
    "    name = input(\"Name of movie: \")\n",
    "    name = name.title()\n",
    "    movies.append(name)\n",
    "    print(name, \"was added.\")\n",
    "    \n",
    "def delMovie(): \n",
    "    delNum = input(\"Number of the movie to delete (enter '0' to list movies): \")\n",
    "    if delNum == \"0\": \n",
    "        menu(\"1\")\n",
    "        delNum = input(\"Number of the movie to delete (enter '0' to list movies): \")\n",
    "    else:\n",
    "        index = int(delNum) - 1\n",
    "        if index not in range (len(movies)):\n",
    "            print(\"Invalid option\\n\")\n",
    "            delNum = input(\"Number of the movie to delete (enter '0' to list movies): \")\n",
    "        else:\n",
    "            print(movies[index], \"was deleted.\")\n",
    "            movies.pop(index)\n",
    "\n",
    "def menu(command):\n",
    "    if command == \"1\":\n",
    "        movieList()\n",
    "    elif command == \"2\":\n",
    "        addMovie()\n",
    "    elif command == \"3\": \n",
    "        delMovie()\n",
    "    elif command == \"4\":\n",
    "        main = \"close\"\n",
    "        print(main)\n",
    "    else: \n",
    "        print(\"Invalid Option\")\n",
    "        #command = input(\"\\nEnter,'1' to list movies, '2' to add a movie, '3' to delete a movie, or '4' to exit menu: \")\n",
    "        #menu(command)\n",
    "\n",
    "def movieList(): \n",
    "    if movies == []: \n",
    "        print(\"List is emppty.\")\n",
    "    else:\n",
    "        movies.sort()\n",
    "        count = int(len(movies)) - (int(len(movies)-1))\n",
    "        for count in range(len(movies)):\n",
    "            index = movies[count]\n",
    "            count += 1\n",
    "            print(f\"{count}.\\t{index}\")\n",
    "\n",
    "\n",
    "movies = []\n",
    "#main = \"start\"\n",
    "\n",
    "while main == \"start\": \n",
    "    print(\"\"\"\n",
    "    Command Menu:\\n\n",
    "    List - list all movies\n",
    "    Add - add a movie\n",
    "    Del - delete a movie\n",
    "    Exit - exit program \"\"\")\n",
    "    command = input(\"\\nEnter,'1' to list movies, '2' to add a movie, '3' to delete a movie, or '4' to exit menu: \")\n",
    "    menu(command)\n",
    "print(\"Menu Exit\")\n"
   ]
  },
  {
   "cell_type": "code",
   "execution_count": null,
   "metadata": {},
   "outputs": [],
   "source": []
  },
  {
   "cell_type": "code",
   "execution_count": null,
   "metadata": {},
   "outputs": [],
   "source": []
  }
 ],
 "metadata": {
  "kernelspec": {
   "display_name": "Python 3",
   "language": "python",
   "name": "python3"
  },
  "language_info": {
   "codemirror_mode": {
    "name": "ipython",
    "version": 3
   },
   "file_extension": ".py",
   "mimetype": "text/x-python",
   "name": "python",
   "nbconvert_exporter": "python",
   "pygments_lexer": "ipython3",
   "version": "3.8.5"
  }
 },
 "nbformat": 4,
 "nbformat_minor": 4
}
