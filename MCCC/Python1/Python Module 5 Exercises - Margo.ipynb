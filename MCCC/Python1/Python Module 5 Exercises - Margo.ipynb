{
 "cells": [
  {
   "cell_type": "markdown",
   "metadata": {},
   "source": [
    "1. Create a dictionary named pairs with key value pairs of hello and fire, 3 and seven, strong and 45. Print out the dictionary."
   ]
  },
  {
   "cell_type": "code",
   "execution_count": 1,
   "metadata": {},
   "outputs": [
    {
     "name": "stdout",
     "output_type": "stream",
     "text": [
      "{'hello': 'fire', 3: 'seven', 'strong': 45}\n"
     ]
    }
   ],
   "source": [
    "pairs = {\"hello\": \"fire\", 3 : \"seven\", \"strong\" : 45}\n",
    "print(pairs)"
   ]
  },
  {
   "cell_type": "markdown",
   "metadata": {},
   "source": [
    "2. Add welcome and 56 pair into pairs dictionary. Print out the dictionary. "
   ]
  },
  {
   "cell_type": "code",
   "execution_count": 2,
   "metadata": {},
   "outputs": [
    {
     "name": "stdout",
     "output_type": "stream",
     "text": [
      "{'hello': 'fire', 3: 'seven', 'strong': 45, 'welcome': 56}\n"
     ]
    }
   ],
   "source": [
    "pairs[\"welcome\"] = 56\n",
    "print(pairs)"
   ]
  },
  {
   "cell_type": "markdown",
   "metadata": {},
   "source": [
    "3. Delete one item from the Dictionary. Print deleted item and the dictionary."
   ]
  },
  {
   "cell_type": "code",
   "execution_count": 3,
   "metadata": {},
   "outputs": [
    {
     "name": "stdout",
     "output_type": "stream",
     "text": [
      "('welcome', 56)\n",
      "{'hello': 'fire', 3: 'seven', 'strong': 45}\n"
     ]
    }
   ],
   "source": [
    "removed = pairs.popitem()\n",
    "print(removed)\n",
    "print(pairs)"
   ]
  },
  {
   "cell_type": "markdown",
   "metadata": {},
   "source": [
    "4. Print the value of an item where key is 3 from the dicitonary"
   ]
  },
  {
   "cell_type": "code",
   "execution_count": 4,
   "metadata": {},
   "outputs": [
    {
     "name": "stdout",
     "output_type": "stream",
     "text": [
      "seven\n"
     ]
    }
   ],
   "source": [
    "print(pairs[3])"
   ]
  },
  {
   "cell_type": "markdown",
   "metadata": {},
   "source": [
    "5. Try to find out if the key called hello exist. Print out the key is found if it is there otherwise print out the key is not there."
   ]
  },
  {
   "cell_type": "code",
   "execution_count": 5,
   "metadata": {},
   "outputs": [
    {
     "name": "stdout",
     "output_type": "stream",
     "text": [
      "The key is found.\n"
     ]
    }
   ],
   "source": [
    "if \"hello\" in pairs: \n",
    "    print(\"The key is found.\")\n",
    "else: \n",
    "    print(\"The key is not there.\")"
   ]
  },
  {
   "cell_type": "markdown",
   "metadata": {},
   "source": [
    "6. Loop through the dictionary and print out each value. "
   ]
  },
  {
   "cell_type": "code",
   "execution_count": 6,
   "metadata": {},
   "outputs": [
    {
     "name": "stdout",
     "output_type": "stream",
     "text": [
      "{'hello': 'fire', 3: 'seven', 'strong': 45}\n",
      "\n",
      "fire\n",
      "seven\n",
      "45\n"
     ]
    }
   ],
   "source": [
    "print(pairs)\n",
    "print()\n",
    "\n",
    "for val in pairs.values():\n",
    "    print(val)"
   ]
  },
  {
   "cell_type": "markdown",
   "metadata": {},
   "source": [
    "7. Loop through the dictionary and print out each key."
   ]
  },
  {
   "cell_type": "code",
   "execution_count": 7,
   "metadata": {},
   "outputs": [
    {
     "name": "stdout",
     "output_type": "stream",
     "text": [
      "{'hello': 'fire', 3: 'seven', 'strong': 45}\n",
      "\n",
      "hello\n",
      "3\n",
      "strong\n"
     ]
    }
   ],
   "source": [
    "print(pairs)\n",
    "print()\n",
    "\n",
    "for key in pairs.keys():\n",
    "    print(key)"
   ]
  },
  {
   "cell_type": "markdown",
   "metadata": {},
   "source": [
    "8. Loop through the dictionary and print out each key and value pair. "
   ]
  },
  {
   "cell_type": "code",
   "execution_count": 8,
   "metadata": {},
   "outputs": [
    {
     "name": "stdout",
     "output_type": "stream",
     "text": [
      "{'hello': 'fire', 3: 'seven', 'strong': 45}\n",
      "\n",
      "('hello', 'fire')\n",
      "(3, 'seven')\n",
      "('strong', 45)\n"
     ]
    }
   ],
   "source": [
    "print(pairs)\n",
    "print()\n",
    "\n",
    "for pair in pairs.items():\n",
    "    print(pair)"
   ]
  },
  {
   "cell_type": "markdown",
   "metadata": {},
   "source": [
    "9. Make a nested dictionary called parent with 2 children's information: name, age, gender. Print out parent."
   ]
  },
  {
   "cell_type": "code",
   "execution_count": 9,
   "metadata": {},
   "outputs": [
    {
     "name": "stdout",
     "output_type": "stream",
     "text": [
      "{'Child 1': {'Name': 'Aye', 'Age': 3, 'Gender': 'Male'}, 'Child 2': {'Name': 'Bee', 'Age': 1, 'Gender': 'Female'}}\n"
     ]
    }
   ],
   "source": [
    "a = {\"Name\": \"Aye\", \"Age\": 3, \"Gender\": \"Male\"}\n",
    "b = {\"Name\": \"Bee\", \"Age\": 1, \"Gender\": \"Female\"}\n",
    "parent = {\"Child 1\": a, \"Child 2\": b}\n",
    "print(parent)"
   ]
  },
  {
   "cell_type": "markdown",
   "metadata": {},
   "source": [
    "10. Add new child to above dictionary. Print out the name of all children."
   ]
  },
  {
   "cell_type": "code",
   "execution_count": 10,
   "metadata": {},
   "outputs": [
    {
     "name": "stdout",
     "output_type": "stream",
     "text": [
      "{'Child 1': {'Name': 'Aye', 'Age': 3, 'Gender': 'Male'}, 'Child 2': {'Name': 'Bee', 'Age': 1, 'Gender': 'Female'}, 'Child 3': {'Name': 'Cee', 'Age': '3-mos', 'Gender': 'Female'}}\n",
      "Aye\n",
      "Bee\n",
      "Cee\n"
     ]
    }
   ],
   "source": [
    "c = {\"Name\": \"Cee\", \"Age\": \"3-mos\", \"Gender\": \"Female\"}\n",
    "parent[\"Child 3\"] = c\n",
    "print(parent)\n",
    "\n",
    "for child in parent.values():\n",
    "    print(child[\"Name\"])\n",
    "    "
   ]
  },
  {
   "cell_type": "markdown",
   "metadata": {},
   "source": [
    "11. Create a Test Scores program that gets the name of students and test score from a user. Then, generate a list of students who passed and a list of students who failed where passing test score is 60 or above. "
   ]
  },
  {
   "cell_type": "code",
   "execution_count": 11,
   "metadata": {},
   "outputs": [
    {
     "name": "stdout",
     "output_type": "stream",
     "text": [
      "Student's name: Me\n",
      "Me's test score: 50\n",
      "Enter another name? (y/n): y\n",
      "\n",
      "Student's name: Mee\n",
      "Mee's test score: 80\n",
      "Enter another name? (y/n): y\n",
      "\n",
      "Student's name: Meee\n",
      "Meee's test score: 30\n",
      "Enter another name? (y/n): n\n",
      "\n",
      "\n",
      "Names with scores highest to lowest: {'Me': 50.0, 'Mee': 80.0, 'Meee': 30.0}.\n",
      "Students who passed: ['Mee'].\n",
      "Students who failed: ['Me', 'Meee'].\n"
     ]
    }
   ],
   "source": [
    "def testScores(name, score):\n",
    "    stuScores[name] = score #adds name/score pair to dict\n",
    "    if score >= 60: \n",
    "        passList.append(name) #adds name to list & then sorts list\n",
    "        passList.sort()\n",
    "    else: \n",
    "        failList.append(name) #adds name to list & then sorts list\n",
    "        failList.sort()\n",
    "    \n",
    "\n",
    "cont = True\n",
    "passList = []\n",
    "failList = []\n",
    "stuScores = {}\n",
    "\n",
    "while True:\n",
    "    name = input(\"Student's name: \")\n",
    "    score = float(input(f\"{name}'s test score: \"))\n",
    "    testScores(name, score)\n",
    "    sorted(stuScores.values()) #sorts pairs by values???\n",
    "    cont = input(\"Enter another name? (y/n): \")\n",
    "    print()\n",
    "    if cont == \"n\": \n",
    "        break\n",
    "\n",
    "print(f\"\\nNames with scores highest to lowest: {stuScores}.\") #why didn't this sort?\n",
    "print(f\"Students who passed: {passList}.\")\n",
    "print(f\"Students who failed: {failList}.\")"
   ]
  },
  {
   "cell_type": "markdown",
   "metadata": {},
   "source": [
    "12. Create a Word Counter program that gets a string of text from a user and then counts the number of times a word occrs in the string. \n",
    "\n",
    "The output should look something like this:\n",
    "\n",
    "    The Word Counter Program\n",
    "    \n",
    "    Enter a text string: \n",
    "    Humpty Dumpty sat on a wall, Humpty Dumpty had a great fall. All the king’s horses and all the king’s men couldn’t put Humpty together again.\n",
    "\n",
    "    a : 2\n",
    "    again : 1\n",
    "    all : 2\n",
    "    and : 1\n",
    "    couldn’t : 1\n",
    "    dumpty : 2\n",
    "    fall : 1\n",
    "    great : 1\n",
    "    had : 1\n",
    "    horses : 1\n",
    "    humpty : 3\n",
    "    king’s : 2\n",
    "    men : 1\n",
    "    on : 1\n",
    "    put : 1\n",
    "    sat : 1\n",
    "    the : 2\n",
    "    together : 1\n",
    "    wall : 1\n",
    "\n",
    "    There were total 26 words in the text string   "
   ]
  },
  {
   "cell_type": "code",
   "execution_count": 12,
   "metadata": {},
   "outputs": [
    {
     "name": "stdout",
     "output_type": "stream",
     "text": [
      "Word Counter Program\n",
      "\n",
      "Enter text: In D&D, each player creates a character who is an adventurer and teams up with other adventurers.\n"
     ]
    },
    {
     "ename": "NameError",
     "evalue": "name 'word' is not defined",
     "output_type": "error",
     "traceback": [
      "\u001b[1;31m---------------------------------------------------------------------------\u001b[0m",
      "\u001b[1;31mNameError\u001b[0m                                 Traceback (most recent call last)",
      "\u001b[1;32m<ipython-input-12-9ff684779ee5>\u001b[0m in \u001b[0;36m<module>\u001b[1;34m\u001b[0m\n\u001b[0;32m     31\u001b[0m \u001b[0mlower\u001b[0m \u001b[1;33m=\u001b[0m \u001b[0mconvertText\u001b[0m\u001b[1;33m(\u001b[0m\u001b[0mtext\u001b[0m\u001b[1;33m)\u001b[0m\u001b[1;33m\u001b[0m\u001b[1;33m\u001b[0m\u001b[0m\n\u001b[0;32m     32\u001b[0m \u001b[0mcount\u001b[0m \u001b[1;33m=\u001b[0m \u001b[0mcountList\u001b[0m\u001b[1;33m(\u001b[0m\u001b[0mlower\u001b[0m\u001b[1;33m)\u001b[0m\u001b[1;33m\u001b[0m\u001b[1;33m\u001b[0m\u001b[0m\n\u001b[1;32m---> 33\u001b[1;33m \u001b[0mwordList\u001b[0m\u001b[1;33m(\u001b[0m\u001b[0mcount\u001b[0m\u001b[1;33m)\u001b[0m\u001b[1;33m\u001b[0m\u001b[1;33m\u001b[0m\u001b[0m\n\u001b[0m\u001b[0;32m     34\u001b[0m \u001b[0mprint\u001b[0m\u001b[1;33m(\u001b[0m\u001b[1;34mf\"There were {totalWords} words in the text.\"\u001b[0m\u001b[1;33m)\u001b[0m\u001b[1;33m\u001b[0m\u001b[1;33m\u001b[0m\u001b[0m\n",
      "\u001b[1;32m<ipython-input-12-9ff684779ee5>\u001b[0m in \u001b[0;36mwordList\u001b[1;34m(wordCount)\u001b[0m\n\u001b[0;32m     22\u001b[0m     \u001b[0mtotalWords\u001b[0m \u001b[1;33m=\u001b[0m \u001b[1;36m0\u001b[0m \u001b[1;31m#counter for number of words\u001b[0m\u001b[1;33m\u001b[0m\u001b[1;33m\u001b[0m\u001b[0m\n\u001b[0;32m     23\u001b[0m     \u001b[1;32mfor\u001b[0m \u001b[0mkey\u001b[0m \u001b[1;32min\u001b[0m \u001b[0mwords\u001b[0m\u001b[1;33m:\u001b[0m\u001b[1;33m\u001b[0m\u001b[1;33m\u001b[0m\u001b[0m\n\u001b[1;32m---> 24\u001b[1;33m         \u001b[0mtotalWords\u001b[0m \u001b[1;33m+=\u001b[0m \u001b[0mwordCount\u001b[0m\u001b[1;33m[\u001b[0m\u001b[0mword\u001b[0m\u001b[1;33m]\u001b[0m\u001b[1;33m\u001b[0m\u001b[1;33m\u001b[0m\u001b[0m\n\u001b[0m\u001b[0;32m     25\u001b[0m         \u001b[0mprint\u001b[0m\u001b[1;33m(\u001b[0m\u001b[1;34mf\"{key}: \\t\\t{wordCount[word]}\"\u001b[0m\u001b[1;33m)\u001b[0m\u001b[1;33m\u001b[0m\u001b[1;33m\u001b[0m\u001b[0m\n\u001b[0;32m     26\u001b[0m     \u001b[1;32mreturn\u001b[0m \u001b[0mtotalWords\u001b[0m\u001b[1;33m\u001b[0m\u001b[1;33m\u001b[0m\u001b[0m\n",
      "\u001b[1;31mNameError\u001b[0m: name 'word' is not defined"
     ]
    }
   ],
   "source": [
    "def convertText(text):\n",
    "    strip = text.strip()\n",
    "    quest = strip.replace(\"?\",\".\")\n",
    "    exclaim = quest.replace(\"!\",\".\")\n",
    "    comma = exclaim.replace(\",\",\".\")\n",
    "    period = comma.replace(\".\",\"\")\n",
    "    case = period.lower()\n",
    "    return case\n",
    "\n",
    "def countList(text):\n",
    "    wordCount = {} #empty dict\n",
    "    for word in text:\n",
    "        if word in wordCount:\n",
    "            wordCount[word] += 1 #incrementing word key's value +1 if word already appeared in dict\n",
    "        else: \n",
    "            wordCount[word] = 1 #creating word/count key/value if not already in dict\n",
    "    return wordCount\n",
    "\n",
    "def wordList(wordCount):\n",
    "    words = list(wordCount.keys()) #dict to list for iteration of keys in 'for loop'\n",
    "    words.sort()\n",
    "    totalWords = 0 #counter for number of words\n",
    "    for key in words:\n",
    "        totalWords += wordCount[word]\n",
    "        print(f\"{key}: \\t\\t{wordCount[word]}\")\n",
    "    return totalWords\n",
    "    \n",
    "\n",
    "print(\"Word Counter Program\\n\") \n",
    "text = input(\"Enter text: \")\n",
    "lower = convertText(text)\n",
    "count = countList(lower)\n",
    "wordList(count)\n",
    "print(f\"There were {totalWords} words in the text.\")"
   ]
  },
  {
   "cell_type": "code",
   "execution_count": null,
   "metadata": {},
   "outputs": [],
   "source": []
  }
 ],
 "metadata": {
  "kernelspec": {
   "display_name": "Python 3",
   "language": "python",
   "name": "python3"
  },
  "language_info": {
   "codemirror_mode": {
    "name": "ipython",
    "version": 3
   },
   "file_extension": ".py",
   "mimetype": "text/x-python",
   "name": "python",
   "nbconvert_exporter": "python",
   "pygments_lexer": "ipython3",
   "version": "3.8.5"
  }
 },
 "nbformat": 4,
 "nbformat_minor": 4
}
